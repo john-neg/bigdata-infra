{
 "cells": [
  {
   "cell_type": "markdown",
   "metadata": {},
   "source": [
    "## Подключение к Spark"
   ]
  },
  {
   "cell_type": "code",
   "execution_count": null,
   "outputs": [],
   "source": [
    "from pyspark.sql import SparkSession\n",
    "\n",
    "# Имя хоста Spark Master в docker\n",
    "SPARK_MASTER_HOST = \"spark-master\"\n",
    "# Порт Spark Master\n",
    "SPARK_MASTER_PORT = \"7077\"\n",
    "# Память выделенная для Spark Worker в настройках docker-compose.yml\n",
    "SPARK_WORKER_MEMORY = \"512m\"\n",
    "# Название сессии (любое)\n",
    "SPARK_SESSION = \"pyspark-notebook\"\n",
    "\n",
    "# Создаем сессию\n",
    "spark = (\n",
    "    SparkSession.builder.appName(SPARK_SESSION)\n",
    "    .master(f\"spark://{SPARK_MASTER_HOST}:{SPARK_MASTER_PORT}\")\n",
    "    .config(\"spark.executor.memory\", SPARK_WORKER_MEMORY)\n",
    "    .getOrCreate()\n",
    ")"
   ],
   "metadata": {
    "collapsed": false,
    "ExecuteTime": {
     "start_time": "2023-03-31T20:58:33.507245Z",
     "end_time": "2023-03-31T20:58:34.231504Z"
    }
   }
  },
  {
   "cell_type": "markdown",
   "source": [
    "## Чтение в Spark из Jupyter workspace\n",
    "\n",
    "Прочитать файл в Spark можно из рабочей директории Jupyter Lab"
   ],
   "metadata": {
    "collapsed": false
   }
  },
  {
   "cell_type": "code",
   "execution_count": null,
   "outputs": [],
   "source": [
    "# Директория с данными в workspace Jupyter\n",
    "BASE_DIR = './data/'\n",
    "# Название файла\n",
    "FILENAME = 'test.csv'\n",
    "# Полное имя файла\n",
    "file = f\"{BASE_DIR}{FILENAME}\"\n",
    "\n",
    "# Чтение файла\n",
    "spark_df = spark.read.csv(file, header=True)"
   ],
   "metadata": {
    "collapsed": false
   }
  },
  {
   "cell_type": "markdown",
   "source": [
    "## Запись в Jupyter workspace"
   ],
   "metadata": {
    "collapsed": false
   }
  },
  {
   "cell_type": "code",
   "execution_count": null,
   "outputs": [],
   "source": [
    "FILENAME = 'test.csv'\n",
    "\n",
    "write_jupyter = (\n",
    "    spark_df.write.option(\"header\", True)\n",
    "    # .partitionBy(\"PublishYear\")\n",
    "    .mode(\"overwrite\")\n",
    "    .parquet(f'{BASE_DIR}{FILENAME}')\n",
    ")"
   ],
   "metadata": {
    "collapsed": false
   }
  },
  {
   "cell_type": "markdown",
   "source": [
    "## Чтение в Spark из Hadoop"
   ],
   "metadata": {
    "collapsed": false
   }
  },
  {
   "cell_type": "code",
   "execution_count": null,
   "outputs": [],
   "source": [
    "# Имя Hadoop Namenode в docker\n",
    "HADOOP_HOST = 'hadoop-namenode'\n",
    "# Hadoop Namenode port\n",
    "HADOOP_PORT = '9000'\n",
    "# Название файла\n",
    "FILENAME = 'test.parquet'\n",
    "\n",
    "spark_df = spark.read.parquet(f\"hdfs://{HADOOP_HOST}:{HADOOP_PORT}/{FILENAME}\")"
   ],
   "metadata": {
    "collapsed": false
   }
  },
  {
   "cell_type": "markdown",
   "source": [
    "## Запись в Hadoop"
   ],
   "metadata": {
    "collapsed": false
   }
  },
  {
   "cell_type": "code",
   "execution_count": null,
   "outputs": [],
   "source": [
    "FILENAME = 'test.parquet'\n",
    "\n",
    "write_hadoop = (\n",
    "    spark_df.write.option(\"header\", True)\n",
    "    # .partitionBy(\"PublishYear\")\n",
    "    .mode(\"overwrite\")\n",
    "    .parquet(f\"hdfs://{HADOOP_HOST}:{HADOOP_PORT}/{FILENAME}\")\n",
    ")"
   ],
   "metadata": {
    "collapsed": false
   }
  },
  {
   "cell_type": "markdown",
   "source": [
    "## Создание пустого датафрейма со схемой из csv файла"
   ],
   "metadata": {
    "collapsed": false
   }
  },
  {
   "cell_type": "code",
   "execution_count": 47,
   "outputs": [],
   "source": [
    "from pyspark.sql.types import StructType, StructField, StringType\n",
    "\n",
    "FILENAME = 'test.csv'\n",
    "\n",
    "with open(FILENAME) as file:\n",
    "    headers = file.readline().rstrip().split(',')\n",
    "\n",
    "schema = StructType([StructField(header, StringType(), True) for header in headers])\n",
    "\n",
    "emp_RDD = spark.sparkContext.emptyRDD()\n",
    "\n",
    "spark_df = spark.createDataFrame(data = emp_RDD, schema=schema)"
   ],
   "metadata": {
    "collapsed": false,
    "ExecuteTime": {
     "start_time": "2023-04-01T12:59:56.147666Z",
     "end_time": "2023-04-01T12:59:56.177887Z"
    }
   }
  },
  {
   "cell_type": "markdown",
   "source": [
    "## Получение списка файлов в директории по условию"
   ],
   "metadata": {
    "collapsed": false
   }
  },
  {
   "cell_type": "code",
   "execution_count": null,
   "outputs": [],
   "source": [
    "import os\n",
    "\n",
    "file_list = [f\"{BASE_DIR}{file}\" for file in os.listdir(BASE_DIR) if 'test' in file]\n",
    "file_list"
   ],
   "metadata": {
    "collapsed": false
   }
  },
  {
   "cell_type": "markdown",
   "source": [
    "## Загрузка списка файлов с проверкой схемы и ее дополнением при необходимости"
   ],
   "metadata": {
    "collapsed": false
   }
  },
  {
   "cell_type": "code",
   "execution_count": 54,
   "outputs": [],
   "source": [
    "for file in file_list:\n",
    "    spark_data = spark.read.csv(file, header=True)\n",
    "    spark_df = spark_df.unionByName(spark_data, allowMissingColumns=True)"
   ],
   "metadata": {
    "collapsed": false,
    "ExecuteTime": {
     "start_time": "2023-04-01T13:03:25.372208Z",
     "end_time": "2023-04-01T13:03:28.298769Z"
    }
   }
  }
 ],
 "metadata": {
  "kernelspec": {
   "display_name": "Python 3",
   "language": "python",
   "name": "python3"
  },
  "language_info": {
   "codemirror_mode": {
    "name": "ipython",
    "version": 3
   },
   "file_extension": ".py",
   "mimetype": "text/x-python",
   "name": "python",
   "nbconvert_exporter": "python",
   "pygments_lexer": "ipython3",
   "version": "3.9.5"
  }
 },
 "nbformat": 4,
 "nbformat_minor": 4
}
